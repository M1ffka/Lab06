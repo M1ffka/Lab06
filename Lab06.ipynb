{
 "cells": [
  {
   "cell_type": "markdown",
   "id": "c2bb8a05-f73d-4a9a-889c-e6a7c8c62b0d",
   "metadata": {},
   "source": [
    "# Загружаем пакеты"
   ]
  },
  {
   "cell_type": "code",
   "execution_count": null,
   "id": "89f17c9f-fd0d-4fc9-b895-8fec52f9c65c",
   "metadata": {},
   "outputs": [],
   "source": [
    "# загрузка пакетов: инструменты --------------------------------------------\n",
    "# работа с массивами\n",
    "import numpy as np\n",
    "# фреймы данных\n",
    "import pandas as pd\n",
    "# графики\n",
    "import matplotlib as mpl\n",
    "# стили и шаблоны графиков на основе matplotlib\n",
    "import seaborn as sns\n",
    "# перекодировка символьных показателей\n",
    "from sklearn.preprocessing import LabelEncoder\n",
    "# для таймера\n",
    "import time\n",
    "# загрузка пакетов: модели -------------------------------------------------\n",
    "# SVM\n",
    "from sklearn.svm import SVC\n",
    "# логистическая рагрессия\n",
    "from sklearn.linear_model import LogisticRegression\n",
    "# стандартизация\n",
    "from sklearn.preprocessing import StandardScaler\n",
    "# метод главных компонент\n",
    "from sklearn.decomposition import PCA\n",
    "# конвейеры\n",
    "from sklearn.pipeline import make_pipeline\n",
    "# перекрёстная проверка и метод проверочной выборки\n",
    "from sklearn.model_selection import cross_val_score, train_test_split\n",
    "# для перекрёстной проверки и сеточного поиска\n",
    "from sklearn.model_selection import KFold, GridSearchCV\n",
    "# сводка по точности классификации\n",
    "from sklearn.metrics import classification_report\n",
    "# константы\n",
    "# ядро для генератора случайных чисел\n",
    "my_seed = 9212\n",
    "# создаём псевдоним для короткого обращения к графикам\n",
    "plt = mpl.pyplot\n",
    "from sklearn.model_selection import cross_val_score\n",
    "from sklearn.pipeline import make_pipeline\n",
    "from sklearn.preprocessing import StandardScaler\n",
    "from sklearn.svm import SVC\n",
    "import numpy as np"
   ]
  },
  {
   "cell_type": "markdown",
   "id": "5b15e000-4622-47a1-bb8c-d416ab469563",
   "metadata": {},
   "source": [
    "# Загружаем данные"
   ]
  },
  {
   "cell_type": "code",
   "execution_count": null,
   "id": "b2b3e780-3274-431f-bd9b-595040bedadc",
   "metadata": {},
   "outputs": [],
   "source": [
    "# загружаем таблицу\n",
    "url = \"https://raw.githubusercontent.com/aksyuk/MTML/main/Labs/data/winequality-red_for_lab.csv\"\n",
    "DF = pd.read_csv(url)\n",
    "# оставим в таблице только указанные переменные\n",
    "DF_raw = DF.filter(items = ['Y','fixed_acidity', 'volatile_acidity', 'residual_sugar', 'chlorides', 'free_sulfur_dioxide', 'total_sulfur_dioxide', 'pH', 'sulphates', 'alcohol'])\n",
    "# выясняем размерность фрейма\n",
    "print('Число строк и столбцов в наборе данных:\\n', DF_raw.shape)"
   ]
  },
  {
   "cell_type": "code",
   "execution_count": null,
   "id": "18aad0d5-cf22-4164-b0a2-bd494f2362b9",
   "metadata": {},
   "outputs": [],
   "source": [
    "# первые строки\n",
    "DF_raw.head()"
   ]
  },
  {
   "cell_type": "code",
   "execution_count": null,
   "id": "788ea1aa-d078-4035-a42b-564b7270a7d1",
   "metadata": {},
   "outputs": [],
   "source": [
    "# типы столбцов\n",
    "DF_raw.dtypes"
   ]
  },
  {
   "cell_type": "markdown",
   "id": "a55c7c9a-2525-462d-b8b7-65905ca8dc4a",
   "metadata": {},
   "source": [
    "Отложим 15% наблюдений для прогноза."
   ]
  },
  {
   "cell_type": "code",
   "execution_count": null,
   "id": "203a4fe4-6b39-4025-b2ac-9be7fed90b82",
   "metadata": {},
   "outputs": [],
   "source": [
    "DF = DF_raw.sample(frac = 0.85, random_state = my_seed)\n",
    "DF_predict = DF_raw.drop(DF.index)"
   ]
  },
  {
   "cell_type": "markdown",
   "id": "a1863950-82ee-425d-a0d0-4db9e3832c45",
   "metadata": {},
   "source": [
    "## Преобразование исходных данных и построение моделей"
   ]
  },
  {
   "cell_type": "code",
   "execution_count": null,
   "id": "aeaa5933-99ac-4d7e-b52a-236c72dad6f7",
   "metadata": {},
   "outputs": [],
   "source": [
    "DF.iloc[:, 2:].describe()"
   ]
  },
  {
   "cell_type": "markdown",
   "id": "cbc02bcf-1fe1-4cfe-90e5-d9f56a82eaf7",
   "metadata": {},
   "source": [
    "## Стандартизация и переход к главным компонентам"
   ]
  },
  {
   "cell_type": "code",
   "execution_count": null,
   "id": "f15d8f57-0cc2-4904-9b78-0e09e3bc3514",
   "metadata": {},
   "outputs": [],
   "source": [
    "# стандартизация\n",
    "sc = StandardScaler()\n",
    "X_train_std = sc.fit_transform(DF.iloc[:, 2:].values)\n",
    "# оцениваем объяснённую главными компонентами дисперсию\n",
    "pca = PCA()\n",
    "X_train_pca = pca.fit_transform(X_train_std)\n",
    "# считаем доли объяснённой дисперсии\n",
    "frac_var_expl = pca.explained_variance_ratio_\n",
    "print('Доли объяснённой дисперсии по компонентам в PLS:\\n',  np.around(frac_var_expl, 3), '\\nОбщая сумма долей:', np.around(sum(frac_var_expl), 3))\n"
   ]
  },
  {
   "cell_type": "markdown",
   "id": "84a420d2-6027-4141-85fb-f0a1ef057e5c",
   "metadata": {},
   "source": [
    "Таким образом, первые две главные компоненты объясняют 43.8% разброса 8 объясняющих\r\n",
    "переменных.\r\n",
    "Теперь объединим функции-преобразователи и оценщики в конвейер с помощью Pipeline\r\n",
    "и оценим точность логистической регрессии с помощью перекрёстной проверки.\r"
   ]
  },
  {
   "cell_type": "markdown",
   "id": "d01107e5-acbe-47f8-bf8f-66213b7db53c",
   "metadata": {},
   "source": [
    "# Модель логистической регрессии с перекрёстной проверкой"
   ]
  },
  {
   "cell_type": "code",
   "execution_count": null,
   "id": "596b8627-2dd6-42b4-a3c0-8ae1eb0e7fb0",
   "metadata": {},
   "outputs": [],
   "source": [
    "# данные для обучения моделей\n",
    "X_train = DF.iloc[:, 1:]\n",
    "y_train = DF.iloc[:, 0]\n",
    "# объединяем в конвейер шкалирование, ГК с 4 компонентами и логит\n",
    "pipe_lr = make_pipeline(StandardScaler(), PCA(n_components=4), LogisticRegression(random_state=my_seed, solver='lbfgs'))\n",
    "# будем сохранять точность моделей в один массив:\n",
    "score = list()\n",
    "score_models = list()\n",
    "# считаем точность с перекрёстной проверкой, показатель Acc\n",
    "cv = cross_val_score(estimator=pipe_lr, X=X_train, y=y_train, cv=5,\n",
    " scoring='accuracy')\n",
    "# записываем точность\n",
    "score.append(np.around(np.mean(cv), 3))\n",
    "score_models.append('sc_pca_logit')\n",
    "print('Acc с перекрёстной проверкой',\n",
    " '\\nдля модели', score_models[0], ':', score[0])"
   ]
  },
  {
   "cell_type": "markdown",
   "id": "95fabebe-c3ab-4d32-97fe-741f181ccb8e",
   "metadata": {},
   "source": [
    "# SVM с перекрёстной проверкой"
   ]
  },
  {
   "cell_type": "code",
   "execution_count": null,
   "id": "154e4b38-5cea-4a7f-ba3a-a54cbce9f379",
   "metadata": {},
   "outputs": [],
   "source": [
    "pipe_svc = make_pipeline(StandardScaler(),\n",
    " SVC(random_state=my_seed))\n",
    "# настроим параметры SVM с помощью сеточного поиска\n",
    "param_range = [0.0001, 0.001, 0.01, 0.1, 1.0, 10.0, 100.0, 1000.0]\n",
    "param_grid = [{'svc__C': param_range,\n",
    "               'svc__kernel': ['linear']},\n",
    "              {'svc__C': param_range,\n",
    "               'svc__gamma': param_range,\n",
    "               'svc__kernel': ['rbf']},\n",
    "              {'svc__C': param_range,\n",
    "               'svc__gamma': param_range,\n",
    "               'svc__degree' : [2, 3],\n",
    "               'svc__kernel': ['poly']}]\n",
    "# разбиения для перекрёстной проверки\n",
    "kfold = KFold(n_splits=5, random_state=my_seed, shuffle=True)\n",
    "gs = GridSearchCV(estimator=pipe_svc, param_grid=param_grid,\n",
    "                  scoring='accuracy', refit=True, cv=kfold\n",
    "                  )\n",
    "gs = gs.fit(X_train, y_train)\n",
    "# таймер\n",
    "print(f\"Сеточный поиск занял {toc - tic:0.2f} секунд\", sep='')"
   ]
  },
  {
   "cell_type": "code",
   "execution_count": null,
   "id": "ad0b6578-4f36-4092-adc0-463ca9bb1c7b",
   "metadata": {},
   "outputs": [],
   "source": [
    "# точность лучшей модели\n",
    "np.around(gs.best_score_, 3)"
   ]
  },
  {
   "cell_type": "code",
   "execution_count": null,
   "id": "5eef7dcd-8e91-4fa8-aadc-83ec73b5c57d",
   "metadata": {},
   "outputs": [],
   "source": [
    "# параметры лучшей модели\n",
    "# * ядерная функция\n",
    "gs.best_estimator_.get_params()['svc__kernel']"
   ]
  },
  {
   "cell_type": "code",
   "execution_count": null,
   "id": "2ee78b87-1f44-4384-a054-44ea228c9e02",
   "metadata": {},
   "outputs": [],
   "source": [
    "# * параметр регуляризации\n",
    "gs.best_estimator_.get_params()['svc__C']"
   ]
  },
  {
   "cell_type": "code",
   "execution_count": null,
   "id": "b4ccbafc-12eb-48bb-8358-e8720b1f5820",
   "metadata": {},
   "outputs": [],
   "source": [
    "# * коэффициент ядерной функции (для ядер 'rbf', 'poly' и 'sigmoid')\n",
    "gs.best_estimator_.get_params()['svc__gamma']\n"
   ]
  },
  {
   "cell_type": "code",
   "execution_count": null,
   "id": "2b4929f3-95f4-4a2b-a7f1-8126289a34b8",
   "metadata": {},
   "outputs": [],
   "source": [
    "# * степень полинома (для ядра 'poly')\n",
    "gs.best_estimator_.get_params()['svc__degree']"
   ]
  },
  {
   "cell_type": "markdown",
   "id": "857844bf-8890-4812-8931-f97e74bc39dc",
   "metadata": {},
   "source": [
    "# Прогноз на отложенные наблюдения по лучшей модели"
   ]
  },
  {
   "cell_type": "code",
   "execution_count": null,
   "id": "943a97cf-64c0-4ba2-a5dc-14912f404726",
   "metadata": {},
   "outputs": [],
   "source": [
    "# сводка по точности моделей\n",
    "pd.DataFrame({'Модель' : score_models, 'Acc' : score})"
   ]
  },
  {
   "cell_type": "code",
   "execution_count": null,
   "id": "b2cced2d-de2b-4bda-bd79-b3399d2f2e87",
   "metadata": {},
   "outputs": [],
   "source": [
    "# прогноз с помощью лучшей модели ансамбля с SVC\n",
    "y_hat = gs.best_estimator_.predict(X=DF_predict.iloc[:, 1:])\n",
    "# точность\n",
    "# характеристики точности\n",
    "print(classification_report(DF_predict.iloc[:, 0], y_hat))"
   ]
  }
 ],
 "metadata": {
  "kernelspec": {
   "display_name": "Python 3 (ipykernel)",
   "language": "python",
   "name": "python3"
  },
  "language_info": {
   "codemirror_mode": {
    "name": "ipython",
    "version": 3
   },
   "file_extension": ".py",
   "mimetype": "text/x-python",
   "name": "python",
   "nbconvert_exporter": "python",
   "pygments_lexer": "ipython3",
   "version": "3.11.7"
  }
 },
 "nbformat": 4,
 "nbformat_minor": 5
}
